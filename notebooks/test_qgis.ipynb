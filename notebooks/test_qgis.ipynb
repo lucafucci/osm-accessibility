{
 "cells": [
  {
   "cell_type": "markdown",
   "metadata": {},
   "source": [
    "Download data"
   ]
  },
  {
   "cell_type": "code",
   "execution_count": 1,
   "metadata": {},
   "outputs": [],
   "source": [
    "import requests\n",
    "import os\n",
    "import json\n",
    "import sys\n",
    "os.chdir('..')\n",
    "sys.path.append('..')\n",
    "\n",
    "\n",
    "# Definisci la tua query Overpass. Questo esempio recupera i nodi con accessibilità per sedie a rotelle\n",
    "# nell'area specificata. Modifica le coordinate dell'area secondo necessità.\n",
    "overpass_url = \"http://overpass-api.de/api/interpreter\"\n",
    "#Milano\n",
    "overpass_query = \"\"\"\n",
    "[out:json];\n",
    "(\n",
    "  node[\"wheelchair\"=\"yes\"](around:10000,45.4641,9.1919);\n",
    "  node[\"wheelchair\"=\"limited\"](around:10000,45.4641,9.1919);\n",
    "  node[\"wheelchair\"=\"no\"](around:10000,45.4641,9.1919);\n",
    ");\n",
    "out body;\n",
    "\"\"\"\n",
    "#Padova\n",
    "overpass_query = \"\"\"\n",
    "[out:json];\n",
    "(\n",
    "  node[\"wheelchair\"=\"yes\"](around:10000,45.4064,11.8768);  \n",
    "  node[\"wheelchair\"=\"limited\"](around:10000,45.4064,11.8768);\n",
    "  node[\"wheelchair\"=\"no\"](around:10000,45.4064,11.8768);\n",
    ");\n",
    "out body;\n",
    "\"\"\"\n",
    "# Esegui la query e ottieni i dati\n",
    "response = requests.get(overpass_url, params={'data': overpass_query})\n",
    "data = response.json()\n",
    "\n",
    "# Salva i dati in un file GeoJSON (modifica il percorso del file come necessario)\n",
    "output_geojson_path = \"data/test_data.geojson\"\n",
    "with open(output_geojson_path, \"w\") as f:\n",
    "    json.dump(data, f)\n"
   ]
  },
  {
   "cell_type": "code",
   "execution_count": 3,
   "metadata": {},
   "outputs": [
    {
     "data": {
      "text/plain": [
       "<Response [400]>"
      ]
     },
     "execution_count": 3,
     "metadata": {},
     "output_type": "execute_result"
    }
   ],
   "source": [
    "# Importa le librerie necessarie\n",
    "from qgis.core import QgsVectorLayer, QgsProject, QgsExpression, QgsCategorizedSymbolRenderer, QgsSymbol\n",
    "\n",
    "# Carica il layer OSM (ad esempio, un file GeoJSON ottenuto da OSM)\n",
    "osm_path = 'path/to/your_osm_data.osm'  # Modifica con il percorso effettivo del file\n",
    "vlayer = QgsVectorLayer(osm_path, \"OSM Data\", \"ogr\")\n",
    "if not vlayer.isValid():\n",
    "    print(\"Layer failed to load!\")\n",
    "else:\n",
    "    QgsProject.instance().addMapLayer(vlayer)\n",
    "\n",
    "# Filtra i nodi basandoti sui tag 'wheelchair'\n",
    "expression = \"(\\\"wheelchair\\\" = 'yes' OR \\\"wheelchair\\\" = 'limited' OR \\\"wheelchair\\\" = 'no')\"\n",
    "vlayer.setSubsetString(expression)\n",
    "\n",
    "# Crea simboli per ogni categoria\n",
    "symbol_yes = QgsSymbol.defaultSymbol(vlayer.geometryType())\n",
    "symbol_yes.setColor(QColor(\"green\"))\n",
    "symbol_yes.setOpacity(0.5)\n",
    "\n",
    "symbol_limited = QgsSymbol.defaultSymbol(vlayer.geometryType())\n",
    "symbol_limited.setColor(QColor(\"yellow\"))\n",
    "symbol_limited.setOpacity(0.5)\n",
    "\n",
    "symbol_no = QgsSymbol.defaultSymbol(vlayer.geometryType())\n",
    "symbol_no.setColor(QColor(\"red\"))\n",
    "symbol_no.setOpacity(0.5)\n",
    "\n",
    "# Assegna i simboli alle categorie\n",
    "categories = []\n",
    "for value, symbol in [(\"yes\", symbol_yes), (\"limited\", symbol_limited), (\"no\", symbol_no)]:\n",
    "    expression = \"\\\"wheelchair\\\" = '%s'\" % value\n",
    "    category = QgsRendererCategory(expression, symbol, value)\n",
    "    categories.append(category)\n",
    "\n",
    "# Applica il renderer categorico al layer\n",
    "renderer = QgsCategorizedSymbolRenderer(None, categories)\n",
    "renderer.setClassAttribute(\"wheelchair\")\n",
    "vlayer.setRenderer(renderer)\n",
    "\n",
    "# Aggiorna il layer\n",
    "vlayer.triggerRepaint()\n"
   ]
  },
  {
   "cell_type": "code",
   "execution_count": null,
   "metadata": {},
   "outputs": [],
   "source": []
  }
 ],
 "metadata": {
  "kernelspec": {
   "display_name": "gis",
   "language": "python",
   "name": "python3"
  },
  "language_info": {
   "codemirror_mode": {
    "name": "ipython",
    "version": 3
   },
   "file_extension": ".py",
   "mimetype": "text/x-python",
   "name": "python",
   "nbconvert_exporter": "python",
   "pygments_lexer": "ipython3",
   "version": "3.11.8"
  }
 },
 "nbformat": 4,
 "nbformat_minor": 2
}
